{
  "nbformat": 4,
  "nbformat_minor": 0,
  "metadata": {
    "colab": {
      "provenance": [],
      "authorship_tag": "ABX9TyPFKSWOSJFL+Dg7cYw1ael3",
      "include_colab_link": true
    },
    "kernelspec": {
      "name": "python3",
      "display_name": "Python 3"
    },
    "language_info": {
      "name": "python"
    }
  },
  "cells": [
    {
      "cell_type": "markdown",
      "metadata": {
        "id": "view-in-github",
        "colab_type": "text"
      },
      "source": [
        "<a href=\"https://colab.research.google.com/github/hombremono873/Fabrica_Escuela/blob/master/EstaticaCajaBlancaCoberturaCamino.ipynb\" target=\"_parent\"><img src=\"https://colab.research.google.com/assets/colab-badge.svg\" alt=\"Open In Colab\"/></a>"
      ]
    },
    {
      "cell_type": "markdown",
      "source": [
        "![CajaBlanca.jpeg](data:image/jpeg;base64,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)"
      ],
      "metadata": {
        "id": "Nzx6KDqTN0T1"
      }
    },
    {
      "cell_type": "markdown",
      "source": [
        "**Prueba Estática Caja Blanca Cobertura de Camino**"
      ],
      "metadata": {
        "id": "zB2tW61wPJgC"
      }
    },
    {
      "cell_type": "markdown",
      "source": [
        "La prueba estática de caja blanca, específicamente la cobertura de camino, es una técnica utilizada para evaluar el código fuente de un software y asegurarse de que todas las posibles rutas de ejecución dentro del código sean probadas.\n",
        "\n",
        "**¿Qué es la cobertura de camino?**\n",
        "\n",
        "La cobertura de camino es una métrica utilizada en las pruebas de caja blanca para medir qué tan completo es el conjunto de pruebas en términos de los caminos de ejecución posibles en el código. Un \"camino\" es una secuencia específica de instrucciones que se ejecutan desde el inicio de un programa hasta el final de un segmento particular de código, como una función o un módulo.\n",
        "\n",
        "**Objetivo de la cobertura de camino**\n",
        "El objetivo principal de la cobertura de camino es garantizar que todas las rutas posibles que el flujo de control pueda seguir dentro del código sean ejecutadas al menos una vez durante las pruebas. Esto ayuda a identificar errores que pueden surgir en casos específicos, como condiciones lógicas complejas o bifurcaciones del código que podrían no ser obvias en pruebas menos exhaustivas.\n",
        "\n",
        "**¿Cómo se realiza?**\n",
        "**Identificación de caminos:**\n",
        "\n",
        "Se comienza analizando el código fuente para identificar todos los caminos posibles. Esto puede implicar crear un gráfico de control de flujo que muestre todas las bifurcaciones, bucles y condicionales en el código.\n",
        "Análisis estático:\n",
        "\n",
        "Dado que es una prueba estática, no se ejecuta el código. En su lugar, se revisa el código manualmente o mediante herramientas automatizadas para identificar posibles caminos de ejecución.\n",
        "\n",
        "**Diseño de casos de prueba:**\n",
        "\n",
        "Se crean casos de prueba que aseguren que cada camino identificado en el análisis sea cubierto. Esto puede incluir la combinación de múltiples entradas que podrían hacer que el flujo de control tome diferentes caminos.\n",
        "Cobertura de caminos:\n",
        "\n",
        "Cada caso de prueba se diseña para asegurarse de que un camino específico dentro del código sea ejecutado. La cobertura de camino se considera completa cuando todos los caminos posibles han sido probados.\n",
        "\n",
        "**Beneficios**\n",
        "Detección de errores ocultos: Permite descubrir errores que podrían no ser detectados por otros tipos de pruebas, especialmente aquellos que dependen de combinaciones específicas de condiciones lógicas.\n",
        "\n",
        "**Mejora de la calidad del código:** Al probar todas las rutas posibles, se puede asegurar que el código funcione correctamente en todas las situaciones posibles.\n",
        "\n",
        "**Limitaciones**\n",
        "**Complejidad:** Para software con estructuras complejas, la cantidad de caminos posibles puede ser muy grande, lo que hace que sea difícil o incluso imposible probar todos los caminos.\n",
        "Esfuerzo y tiempo: Diseñar y ejecutar pruebas que cubran todos los caminos posibles puede requerir mucho tiempo y esfuerzo."
      ],
      "metadata": {
        "id": "qQFkF9lyPAND"
      }
    },
    {
      "cell_type": "markdown",
      "source": [
        "***Preparación (Análisis Estático)***\n",
        "\n",
        "**Análisis del Código Fuente:**\n",
        "\n",
        "**Diagramas de Control de Flujo:***\n",
        " Se crean diagramas que representan las rutas posibles en el código. Esto ayuda a visualizar las bifurcaciones y ciclos.\n",
        "Identificación de Rutas: Se identifican todos los caminos posibles que el flujo de control puede tomar en el código.\n",
        "\n",
        "\n",
        "**Diseño de Casos de Prueba:**\n",
        "\n",
        "Basado en el análisis estático, se diseñan casos de prueba que aseguren que cada camino sea cubierto. Esto puede implicar generar datos de entrada que hagan que el código tome diferentes rutas.\n",
        "Ejecución (Prueba Dinámica)\n",
        "Implementación de Casos de Prueba:\n",
        "\n",
        "**Escribir y Ejecutar Pruebas:**\n",
        "Se crean y ejecutan casos de prueba que cubran cada camino identificado en la fase de preparación. Esto implica escribir código de prueba (test cases) que proporcionen las entradas necesarias para alcanzar cada camino.\n",
        "Medición de Cobertura:\n",
        "\n",
        "**Herramientas de Cobertura:** Se utilizan herramientas de cobertura de código para medir cuántos de los caminos posibles han sido ejecutados durante las pruebas. Estas herramientas pueden proporcionar informes sobre qué partes del código fueron ejecutadas y cuáles no.\n",
        "\n"
      ],
      "metadata": {
        "id": "PRCD6H4QRanj"
      }
    },
    {
      "cell_type": "code",
      "source": [
        "def funcion_con_rutas(A, B):\n",
        "    \"\"\"\n",
        "    Función con múltiples caminos.\n",
        "    \"\"\"\n",
        "    caminos_visitados = set()\n",
        "\n",
        "    if A > 10:\n",
        "        caminos_visitados.add(\"Camino A > 10\")\n",
        "        if B < 5:\n",
        "            caminos_visitados.add(\"Camino B < 5\")\n",
        "            resultado = \"Camino 1\"\n",
        "        else:\n",
        "            caminos_visitados.add(\"Camino B >= 5\")\n",
        "            resultado = \"Camino 2\"\n",
        "    else:\n",
        "        caminos_visitados.add(\"Camino A <= 10\")\n",
        "        resultado = \"Camino 3\"\n",
        "\n",
        "    return resultado, caminos_visitados\n",
        "\n",
        "def funcion_incompleta(A, B):\n",
        "    \"\"\"\n",
        "    Función con caminos no completamente cubiertos.\n",
        "    \"\"\"\n",
        "    caminos_visitados = set()\n",
        "\n",
        "    if A > 10:\n",
        "        caminos_visitados.add(\"Camino A > 10\")\n",
        "        if B < 5:\n",
        "            caminos_visitados.add(\"Camino B < 5\")\n",
        "            resultado = \"Camino 1\"\n",
        "        else:\n",
        "            # Añadir el camino faltante y lanzar una excepción si B >= 5\n",
        "            raise ValueError(\"Camino A > 10 y B >= 5 no está cubierto en la función.\")\n",
        "    else:\n",
        "        caminos_visitados.add(\"Camino A <= 10\")\n",
        "        resultado = \"Camino 3\"\n",
        "\n",
        "    return resultado, caminos_visitados"
      ],
      "metadata": {
        "id": "UG7MfM_iOPwm"
      },
      "execution_count": 16,
      "outputs": []
    },
    {
      "cell_type": "code",
      "source": [
        "def prueba_manual():\n",
        "    \"\"\"\n",
        "    Permite la prueba manual de las funciones, con opción a salir del modo manual.\n",
        "    \"\"\"\n",
        "    while True:\n",
        "        print(\"\\nPrueba Manual:\")\n",
        "        print(\"1. Probar funcion_con_rutas\")\n",
        "        print(\"2. Probar funcion_incompleta\")\n",
        "        print(\"3. Salir al menú principal\")\n",
        "        opcion = input(\"Seleccione una opción (1, 2, 3): \")\n",
        "\n",
        "        if opcion == '1':\n",
        "            try:\n",
        "                A = int(input(\"Ingrese el valor para A: \"))\n",
        "                B = int(input(\"Ingrese el valor para B: \"))\n",
        "                resultado, caminos = funcion_con_rutas(A, B)\n",
        "                print(f\"\\nEvaluando funcion_con_rutas({A}, {B}):\")\n",
        "                print(f\"Resultado: {resultado}, Caminos visitados: {caminos}\")\n",
        "            except ValueError as e:\n",
        "                print(f\"Error en la entrada: {e}\")\n",
        "\n",
        "        elif opcion == '2':\n",
        "            try:\n",
        "                A = int(input(\"Ingrese el valor para A: \"))\n",
        "                B = int(input(\"Ingrese el valor para B: \"))\n",
        "                resultado, caminos = funcion_incompleta(A, B)\n",
        "                print(f\"\\nEvaluando funcion_incompleta({A}, {B}):\")\n",
        "                print(f\"Resultado: {resultado}, Caminos visitados: {caminos}\")\n",
        "            except ValueError as e:\n",
        "                print(f\"Excepción ocurrida: {e}\")\n",
        "\n",
        "        elif opcion == '3':\n",
        "            break\n",
        "        else:\n",
        "            print(\"Opción no válida. Por favor, seleccione 1, 2 o 3.\")"
      ],
      "metadata": {
        "id": "pRamXBK3oXyF"
      },
      "execution_count": 21,
      "outputs": []
    },
    {
      "cell_type": "code",
      "source": [
        "def prueba_funcion_con_rutas():\n",
        "    \"\"\"\n",
        "    Prueba la función con múltiples caminos y verifica si todos los caminos han sido visitados.\n",
        "    \"\"\"\n",
        "    print(\"\\nPrueba de funcion_con_rutas:\")\n",
        "    resultados = [\n",
        "        {\"A\": 15, \"B\": 3, \"esperado\": \"Camino 1\"},  # Camino A > 10 y B < 5\n",
        "        {\"A\": 15, \"B\": 6, \"esperado\": \"Camino 2\"},  # Camino A > 10 y B >= 5\n",
        "        {\"A\": 5, \"B\": 3, \"esperado\": \"Camino 3\"}    # Camino A <= 10\n",
        "    ]\n",
        "\n",
        "    todos_los_caminos = {\"Camino A > 10\", \"Camino A <= 10\", \"Camino B < 5\", \"Camino B >= 5\"}\n",
        "    caminos_visitados = set()\n",
        "\n",
        "    for prueba in resultados:\n",
        "        A, B = prueba[\"A\"], prueba[\"B\"]\n",
        "        resultado, caminos = funcion_con_rutas(A, B)\n",
        "        print(f\"\\nEvaluando funcion_con_rutas({A}, {B}):\")\n",
        "        print(f\"Resultado: {resultado}, Caminos visitados: {caminos}\")\n",
        "\n",
        "        # Verifica si el resultado es el esperado\n",
        "        if resultado != prueba[\"esperado\"]:\n",
        "            print(f\"Fallo: se esperaba {prueba['esperado']} pero se obtuvo {resultado}\")\n",
        "        else:\n",
        "            print(f\"Prueba exitosa: Resultado coincide con lo esperado.\")\n",
        "\n",
        "        caminos_visitados.update(caminos)\n",
        "\n",
        "    caminos_no_visitados = todos_los_caminos - caminos_visitados\n",
        "    if caminos_no_visitados:\n",
        "        print(f\"\\nNo se recorrieron los siguientes caminos: {caminos_no_visitados}\")\n",
        "    else:\n",
        "        print(\"Se recorrieron todos los caminos posibles.\")\n",
        "\n",
        "def prueba_funcion_incompleta():\n",
        "    \"\"\"\n",
        "    Prueba la función con caminos incompletos y reporta qué caminos no se han recorrido.\n",
        "    \"\"\"\n",
        "    print(\"\\nPrueba de funcion_incompleta:\")\n",
        "    pruebas = [\n",
        "        {\"A\": 15, \"B\": 3, \"esperado\": \"Camino 1\"},  # Camino A > 10 y B < 5\n",
        "        {\"A\": 15, \"B\": 6, \"esperado\": None},       # Camino A > 10 y B >= 5 (no cubierto)\n",
        "        {\"A\": 5, \"B\": 3, \"esperado\": \"Camino 3\"}    # Camino A <= 10\n",
        "    ]\n",
        "\n",
        "    todos_los_caminos = {\"Camino A > 10\", \"Camino A <= 10\", \"Camino B < 5\", \"Camino B >= 5\"}\n",
        "    caminos_visitados = set()\n",
        "    caminos_no_visitados = set(todos_los_caminos)\n",
        "\n",
        "    for prueba in pruebas:\n",
        "        A, B = prueba[\"A\"], prueba[\"B\"]\n",
        "        try:\n",
        "            resultado, caminos = funcion_incompleta(A, B)\n",
        "            print(f\"\\nEvaluando funcion_incompleta({A}, {B}):\")\n",
        "            print(f\"Resultado: {resultado}, Caminos visitados: {caminos}\")\n",
        "\n",
        "            # Verifica si el resultado es el esperado\n",
        "            if prueba[\"esperado\"] is None and resultado in [\"Camino 1\", \"Camino 3\"]:\n",
        "                print(\"Fallo: se esperaba cobertura para el camino no cubierto.\")\n",
        "            elif resultado != prueba[\"esperado\"]:\n",
        "                print(f\"Fallo: se esperaba {prueba['esperado']} pero se obtuvo {resultado}\")\n",
        "            else:\n",
        "                print(f\"Prueba exitosa: Resultado coincide con lo esperado.\")\n",
        "\n",
        "            caminos_visitados.update(caminos)\n",
        "        except ValueError as e:\n",
        "            print(f\"Excepción ocurrida: {e}\")\n",
        "\n",
        "    caminos_no_visitados -= caminos_visitados\n",
        "    if caminos_no_visitados:\n",
        "        print(f\"\\nNo se recorrieron los siguientes caminos: {caminos_no_visitados}\")\n",
        "    else:\n",
        "        print(\"La función incompleta recorrió todos los caminos posibles.\")"
      ],
      "metadata": {
        "id": "4gL2o_TfT9VO"
      },
      "execution_count": 18,
      "outputs": []
    },
    {
      "cell_type": "code",
      "source": [
        "def main():\n",
        "    \"\"\"\n",
        "    Función principal para ejecutar todas las pruebas.\n",
        "    \"\"\"\n",
        "    while True:\n",
        "        print(\"\\nMenú Principal:\")\n",
        "        print(\"1. Modo Manual\")\n",
        "        print(\"2. Modo Automático\")\n",
        "        print(\"3. Terminar\")\n",
        "        opcion = input(\"Seleccione una opción (1, 2, 3): \")\n",
        "\n",
        "        if opcion == '1':\n",
        "            prueba_manual()\n",
        "        elif opcion == '2':\n",
        "            prueba_funcion_con_rutas()\n",
        "            prueba_funcion_incompleta()\n",
        "        elif opcion == '3':\n",
        "            print(\"Saliendo del programa. ¡Adiós!\")\n",
        "            break\n",
        "        else:\n",
        "            print(\"Opción no válida. Por favor, seleccione 1, 2 o 3.\")\n",
        "\n",
        "if __name__ == \"__main__\":\n",
        "    main()"
      ],
      "metadata": {
        "id": "DNZEiOVYf7-g"
      },
      "execution_count": null,
      "outputs": []
    },
    {
      "cell_type": "markdown",
      "source": [
        "**Análisis de Caminos función incompleta**\n",
        "\n",
        "\n",
        "Camino A > 10 y B < 5: Este camino se cubre y lleva a \"Camino 1\".\n",
        "\n",
        "Camino A > 10 y B >= 5: Este camino no está cubierto. No hay ninguna\n",
        "instrucción que maneje el caso cuando A > 10 y B >= 5.\n",
        "\n",
        "Camino A <= 10: Este camino se cubre y lleva a \"Camino 3\", sin importar el valor de B."
      ],
      "metadata": {
        "id": "0bWbOFyZZ4dL"
      }
    },
    {
      "cell_type": "markdown",
      "source": [
        "**La función funcion_completa está diseñada para cubrir todos los caminos posibles:**\n",
        "\n",
        "Si A > 10, la función sigue dos caminos diferentes basados en si B es menor que 5 o mayor o igual a 5.\n",
        "Si A <= 10, la función sigue un único camino, ignorando el valor de B.\n",
        "Al final, todos los caminos están cubiertos y la función garantiza que cada combinación relevante de A y B se maneja adecuadamente, asegurando así una cobertura de caminos completa"
      ],
      "metadata": {
        "id": "8PXTxJriapxK"
      }
    }
  ]
}