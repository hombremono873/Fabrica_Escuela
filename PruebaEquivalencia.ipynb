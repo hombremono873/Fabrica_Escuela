{
  "nbformat": 4,
  "nbformat_minor": 0,
  "metadata": {
    "colab": {
      "provenance": [],
      "collapsed_sections": [
        "poX1Jpc81Dp-"
      ],
      "authorship_tag": "ABX9TyNGmwIw3JTsjvciJDkhG5xl",
      "include_colab_link": true
    },
    "kernelspec": {
      "name": "python3",
      "display_name": "Python 3"
    },
    "language_info": {
      "name": "python"
    }
  },
  "cells": [
    {
      "cell_type": "markdown",
      "metadata": {
        "id": "view-in-github",
        "colab_type": "text"
      },
      "source": [
        "<a href=\"https://colab.research.google.com/github/hombremono873/Fabrica_Escuela/blob/master/PruebaEquivalencia.ipynb\" target=\"_parent\"><img src=\"https://colab.research.google.com/assets/colab-badge.svg\" alt=\"Open In Colab\"/></a>"
      ]
    },
    {
      "cell_type": "markdown",
      "source": [
        "**Tecnica Dinámica de Caja Negra: Pruebas de equivalencia**\n"
      ],
      "metadata": {
        "id": "uNwMiSfix07b"
      }
    },
    {
      "cell_type": "markdown",
      "source": [],
      "metadata": {
        "id": "Ge9gBzzf2S0T"
      }
    },
    {
      "cell_type": "markdown",
      "source": [
        "![cajaNegra.jpg](data:image/jpeg;base64,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)# Sección nueva"
      ],
      "metadata": {
        "id": "poX1Jpc81Dp-"
      }
    },
    {
      "cell_type": "markdown",
      "source": [
        "\n",
        "**Conceptos de Prueba Dinámica Caja Negra y Pruebas de Equivalencia**"
      ],
      "metadata": {
        "id": "7E4sg7d9_rfR"
      }
    },
    {
      "cell_type": "markdown",
      "source": [
        "**Pruebas Dinámicas Caja Negra**\n",
        "Las pruebas dinámicas caja negra son una técnica de prueba en la cual el software se evalúa basado en sus especificaciones funcionales sin tener en cuenta el código interno. Esta técnica se enfoca en la funcionalidad del software y en cómo maneja diferentes entradas para producir las salidas esperadas. En esencia, el tester verifica el comportamiento del sistema desde una perspectiva de \"caja negra\", donde el interior del sistema es desconocido y no se examina directamente.\n",
        "\n",
        "**Características:**\n",
        "\n",
        "Enfoque en la funcionalidad: Se prueban las funcionalidades del sistema y su comportamiento ante diferentes entradas.\n",
        "Sin conocimiento del código: El tester no necesita conocer la implementación interna del software.\n",
        "Ejemplos de técnicas: Pruebas de equivalencia, pruebas de límites, pruebas de estado, y pruebas de decisión.\n",
        "\n",
        "**Pruebas de Equivalencia**\n",
        "Las pruebas de equivalencia son una técnica específica dentro del enfoque de caja negra. Esta técnica se basa en la idea de que se puede dividir el conjunto de entradas posibles en clases de equivalencia. Cada clase representa un grupo de valores que deben ser tratados de manera similar por el sistema. Se seleccionan valores representativos de cada clase para realizar las pruebas.\n",
        "\n",
        "**Características:**\n",
        "\n",
        "**División en clases**: Se dividen los valores de entrada en clases de equivalencia (válidas e inválidas).\n",
        "Selección de valores representativos: Se eligen valores representativos de cada clase para las pruebas.\n",
        "Objetivo: Reducir el número de pruebas necesarias al asegurar que se cubran todos los casos posibles a través de un conjunto representativo de entradas."
      ],
      "metadata": {
        "id": "H380M94TAC0N"
      }
    },
    {
      "cell_type": "markdown",
      "source": [
        "**Evaluación de Peso Corporal para la Salud**\n",
        "\n",
        "En el contexto de la salud y el bienestar, es crucial monitorizar y evaluar el peso corporal de una persona. Con el fin de proporcionar información útil a los profesionales de la salud, se ha desarrollado un sistema que utiliza una báscula para medir el peso corporal y clasificarlo en dos categorías: si el peso es saludable o si el peso es válido. Este sistema está diseñado para generar reportes automáticos que ayudan a los médicos en la evaluación del estado de salud del paciente.\n",
        "\n",
        "**Requisitos del Sistema:**\n",
        "\n",
        "**Clasificación de Peso Saludable:**\n",
        "\n",
        "Un peso se considera saludable si está dentro del rango de 50 a 100 kg (inclusive). Fuera de este rango, el peso se considera no saludable.\n",
        "\n",
        "**Clasificación de Peso Válido:**\n",
        "\n",
        "Un peso se considera válido si está dentro del rango de 50 a 100 kg (inclusive). Los pesos fuera de este rango se consideran no válidos.\n",
        "Objetivo: Desarrollar un programa que permita ingresar un peso corporal y determine si dicho peso es saludable o válido. El sistema debe proporcionar una función para cada categoría de clasificación y debe incluir pruebas automáticas que verifiquen que el sistema funciona correctamente en diferentes escenarios.\n",
        "\n",
        "**Descripción de las Funciones:**\n",
        "\n",
        "**es_peso_saludable(peso):**\n",
        "\n",
        "Entrada: Un valor numérico que representa el peso en kilogramos.\n",
        "Salida: True si el peso está en el rango saludable (50 a 100 kg). False en caso contrario,\n",
        "\n",
        "**es_peso_valido(peso):**\n",
        "\n",
        "**Entrada:** Un valor numérico que representa el peso en kilogramos.\n",
        "Salida: True si el peso está en el rango válido (50 a 100 kg). False en caso contrario.\n",
        "\n",
        "**Ejemplo de Uso:**\n",
        "\n",
        "Si el peso ingresado es 55 kg, es_peso_saludable(55) debe devolver True, ya que 55 kg está dentro del rango saludable.\n",
        "Si el peso ingresado es 45 kg, es_peso_valido(45) debe devolver False, ya que 45 kg está fuera del rango válido.\n",
        "\n",
        "**Pruebas Automáticas:** El sistema debe incluir pruebas automáticas para verificar el correcto funcionamiento de las funciones es_peso_saludable y es_peso_valido. Estas pruebas deben cubrir diferentes valores de entrada, incluyendo valores en los límites de los rangos, valores dentro de los rangos y valores fuera de los rangos, para asegurar que el sistema responde correctamente en todos los casos posibles."
      ],
      "metadata": {
        "id": "-CIemiczDBEW"
      }
    },
    {
      "cell_type": "markdown",
      "source": [
        "**Clases para la Función es_peso_saludable:**\n",
        "\n",
        "**Clase 1:** Pesos muy por debajo del rango saludable. Ejemplos: 30, 45 (Valores < 50 kg).\n",
        "\n",
        "**Clase 2:** Pesos justo por debajo del rango saludable. Ejemplos: 49 (Valores = 49 kg).\n",
        "\n",
        "**Clase 3:** Pesos dentro del rango saludable. Ejemplos: 50, 55, 60, 75, 85, 95, 100 (Valores entre 50 y 100 kg, inclusivos).\n",
        "\n",
        "**Clase 4:** Pesos justo por encima del rango saludable. Ejemplos: 101 (Valores = 101 kg).\n",
        "\n",
        "**Clase 5:** Pesos muy por encima del rango saludable. Ejemplos: 110\n",
        "(Valores > 100 kg).\n",
        "\n",
        "\n",
        "**Clases para la Función es_peso_valido:**\n",
        "\n",
        "**Clase 1:** Pesos muy por debajo del rango válido. Ejemplos: 25, 45 (Valores < 50 kg).\n",
        "\n",
        "**Clase 2:** Pesos justo por debajo del rango válido. Ejemplos: 49 (Valores = 49 kg).\n",
        "\n",
        "**Clase 3:** Pesos dentro del rango válido. Ejemplos: 50, 55, 70, 85, 90, 95, 100 (Valores entre 50 y 100 kg, inclusivos).\n",
        "\n",
        "**Clase 4:** Pesos justo por encima del rango válido. Ejemplos: 105 (Valores = 105 kg).\n",
        "\n",
        "**Clase 5:** Pesos muy por encima del rango válido. Ejemplos: 120 (Valores > 100 kg).\n"
      ],
      "metadata": {
        "id": "FnN21QYaBfAC"
      }
    },
    {
      "cell_type": "code",
      "source": [
        "# Define las funciones para evaluar el peso\n",
        "\n",
        "def es_peso_saludable(peso):\n",
        "    \"\"\"Determina si un peso está en el rango saludable (50-100 kg).\"\"\"\n",
        "    return 50 <= peso <= 100\n",
        "\n",
        "def es_peso_valido(peso):\n",
        "    \"\"\"Valida si un peso está en un rango aceptable (50-100 kg).\"\"\"\n",
        "    return 50 <= peso <= 100\n"
      ],
      "metadata": {
        "id": "Out6WQvq1QSD"
      },
      "execution_count": null,
      "outputs": []
    },
    {
      "cell_type": "code",
      "source": [
        "# Función para evaluar manualmente y generar un reporte\n",
        "\n",
        "def evaluar_peso_manual():\n",
        "    \"\"\"Permite al usuario ingresar pesos y evalúa si están en el rango saludable o válido.\"\"\"\n",
        "    resultados = []\n",
        "    while True:\n",
        "        try:\n",
        "            # Solicitar al usuario que ingrese un peso\n",
        "            entrada = input(\"Ingrese un peso para evaluar (o 'q' para salir): \")\n",
        "            if entrada.lower() == 'q':\n",
        "                print(\"Saliendo de la evaluación manual.\")\n",
        "                break\n",
        "\n",
        "            peso = float(entrada)\n",
        "\n",
        "            # Evaluar si el peso es saludable\n",
        "            if es_peso_saludable(peso):\n",
        "                resultados.append(f\"El peso {peso} kg está en el rango saludable.\")\n",
        "            else:\n",
        "                resultados.append(f\"El peso {peso} kg NO está en el rango saludable.\")\n",
        "\n",
        "            # Evaluar si el peso es válido\n",
        "            if es_peso_valido(peso):\n",
        "                resultados.append(f\"El peso {peso} kg es válido.\")\n",
        "            else:\n",
        "                resultados.append(f\"El peso {peso} kg NO es válido.\")\n",
        "\n",
        "        except ValueError:\n",
        "            resultados.append(\"Entrada no válida. Por favor, ingrese un número o 'q' para salir.\")\n",
        "\n",
        "    return resultados"
      ],
      "metadata": {
        "id": "LOoYF33I3G2S"
      },
      "execution_count": null,
      "outputs": []
    },
    {
      "cell_type": "code",
      "source": [
        "def test_es_peso_saludable():\n",
        "    \"\"\"Prueba automática para la función es_peso_saludable.\"\"\"\n",
        "    print(\"\\nIniciando pruebas automáticas de es_peso_saludable...\")\n",
        "    resultados = []\n",
        "    valores = [30, 45, 49, 50, 55, 60, 75, 85, 95, 100, 101, 110]\n",
        "    resultados_esperados = [\n",
        "        False,  # 30: Muy por debajo del rango saludable\n",
        "        False,  # 45: Muy por debajo del rango saludable\n",
        "        False,  # 49: Justo por debajo del rango saludable\n",
        "        True,   # 50: Límite inferior del rango saludable\n",
        "        True,   # 55: Dentro del rango saludable\n",
        "        True,   # 60: Dentro del rango saludable\n",
        "        True,   # 75: Dentro del rango saludable\n",
        "        True,   # 85: Dentro del rango saludable\n",
        "        True,   # 95: Dentro del rango saludable\n",
        "        True,   # 100: Límite superior del rango saludable\n",
        "        False,  # 101: Justo por encima del rango saludable\n",
        "        False   # 110: Muy por encima del rango saludable\n",
        "    ]\n",
        "\n",
        "    for valor, esperado in zip(valores, resultados_esperados):\n",
        "        resultado = es_peso_saludable(valor)\n",
        "        if resultado == esperado:\n",
        "            resultados.append(f\"Prueba con peso {valor}: PASADA (Resultado: {resultado})\")\n",
        "        else:\n",
        "            resultados.append(f\"Prueba con peso {valor}: FALLIDA (Resultado: {resultado}, Esperado: {esperado})\")\n",
        "\n",
        "    print(\"\\n\".join(resultados))\n",
        "\n",
        "def test_es_peso_valido():\n",
        "    \"\"\"Prueba automática para la función es_peso_valido.\"\"\"\n",
        "    print(\"\\nIniciando pruebas automáticas de es_peso_valido...\")\n",
        "    resultados = []\n",
        "    valores = [25, 45, 49, 50, 55, 70, 85, 90, 95, 100, 105, 120]\n",
        "    resultados_esperados = [\n",
        "        False,  # 25: Muy por debajo del rango válido\n",
        "        False,  # 45: Justo por debajo del rango válido\n",
        "        False,  # 49: Justo por debajo del rango válido\n",
        "        True,   # 50: Límite inferior del rango válido\n",
        "        True,   # 55: Dentro del rango válido\n",
        "        True,   # 70: Dentro del rango válido\n",
        "        True,   # 85: Dentro del rango válido\n",
        "        True,   # 90: Dentro del rango válido\n",
        "        True,   # 95: Dentro del rango válido\n",
        "        True,   # 100: Límite superior del rango válido\n",
        "        False,  # 105: Justo por encima del rango válido\n",
        "        False   # 120: Muy por encima del rango válido\n",
        "    ]\n",
        "\n",
        "    for valor, esperado in zip(valores, resultados_esperados):\n",
        "        resultado = es_peso_valido(valor)\n",
        "        if resultado == esperado:\n",
        "            resultados.append(f\"Prueba con peso {valor}: PASADA (Resultado: {resultado})\")\n",
        "        else:\n",
        "            resultados.append(f\"Prueba con peso {valor}: FALLIDA (Resultado: {resultado}, Esperado: {esperado})\")\n",
        "\n",
        "    print(\"\\n\".join(resultados))"
      ],
      "metadata": {
        "id": "aaVXESfG5amM"
      },
      "execution_count": null,
      "outputs": []
    },
    {
      "cell_type": "code",
      "source": [
        "def ejecutar_pruebas_automaticas():\n",
        "    \"\"\"Ejecuta todas las pruebas automáticas definidas.\"\"\"\n",
        "    test_es_peso_saludable()\n",
        "    test_es_peso_valido()\n"
      ],
      "metadata": {
        "id": "ORzruMLA5jGc"
      },
      "execution_count": null,
      "outputs": []
    },
    {
      "cell_type": "code",
      "source": [
        "# Función principal para la ejecución del programa\n",
        "\n",
        "def main():\n",
        "    \"\"\"Función principal que ejecuta la evaluación manual y las pruebas automáticas.\"\"\"\n",
        "    print(\"Ejecutando pruebas manuales...\")\n",
        "    resultados_manual = evaluar_peso_manual()\n",
        "\n",
        "    # Imprimir el reporte de pruebas manuales\n",
        "    print(\"\\nReporte de Evaluación Manual:\")\n",
        "    for resultado in resultados_manual:\n",
        "        print(resultado)\n",
        "\n",
        "    print(\"\\nEjecutando pruebas automáticas...\")\n",
        "    ejecutar_pruebas_automaticas()\n",
        "\n",
        "# Ejecutar la función principal\n",
        "\n",
        "main()\n"
      ],
      "metadata": {
        "id": "MZ4K_DMb3P1H"
      },
      "execution_count": null,
      "outputs": []
    },
    {
      "cell_type": "markdown",
      "source": [
        "**Problema Resuelto**\n",
        "En muchas aplicaciones, es crucial validar que los datos ingresados por el usuario sean correctos antes de procesarlos. Un ejemplo típico es la verificación de que un número entero esté dentro de un rango permitido. Si no se realiza esta validación, podrían ocurrir errores, como el procesamiento de valores no deseados o la generación de excepciones en el sistema.\n",
        "\n",
        "El programa resuelve el problema de validar si un número entero se encuentra dentro del rango de 0 a 100. Este rango se considera válido, mientras que cualquier número fuera de este rango (ya sea negativo o mayor que 100) se considera inválido. Esto es particularmente útil en situaciones donde, por ejemplo, se requiere que un valor de entrada sea un porcentaje (0-100%) o un nivel de intensidad en una escala de 0 a 100.\n",
        "\n",
        "**Metodología Utilizada**\n",
        "El programa utiliza el enfoque de pruebas de caja negra mediante la técnica de clases de equivalencia. Esta técnica divide el dominio de entrada en diferentes clases de equivalencia, donde cualquier valor dentro de una clase se espera que sea tratado de la misma manera. En este caso, se han identificado tres clases de equivalencia:\n",
        "\n",
        "Valores negativos: Todos los números menores a 0 se consideran inválidos.\n",
        "Valores dentro del rango [0-100]: Todos los números en este rango se consideran válidos.\n",
        "Valores mayores a 100: Todos los números superiores a 100 se consideran inválidos."
      ],
      "metadata": {
        "id": "D6xnmatNGh11"
      }
    },
    {
      "cell_type": "code",
      "source": [
        "#Código a ser validado\n",
        "class ValidadorRango:\n",
        "    def es_valido(self, numero):\n",
        "        \"\"\"Valida si un número está en el rango permitido (0-100 inclusive).\"\"\"\n",
        "        if numero < 0:\n",
        "            return \"Inválido\"\n",
        "        elif 0 <= numero <= 100:\n",
        "            return \"Válido\"\n",
        "        else:\n",
        "            return \"Inválido\""
      ],
      "metadata": {
        "id": "zAP_6zA2GS-q"
      },
      "execution_count": null,
      "outputs": []
    },
    {
      "cell_type": "markdown",
      "source": [
        "**Codigo para hacer el testing**"
      ],
      "metadata": {
        "id": "n5hh0bS9JxYB"
      }
    },
    {
      "cell_type": "code",
      "source": [
        "#Código para testear\n",
        "import time\n",
        "\n",
        "class EvaluadorDePruebas:\n",
        "    def __init__(self, validador):\n",
        "        self.validador = validador\n",
        "\n",
        "    def prueba_manual(self):\n",
        "        print(\"\\n--- Modo de Prueba Manual ---\")\n",
        "        while True:\n",
        "            entrada = input(\"Introduce un número para verificar su validez (o 'salir' para regresar al menú principal): \")\n",
        "            if entrada.lower() == \"salir\":\n",
        "                print(\"Saliendo del modo de prueba manual...\\n\")\n",
        "                break\n",
        "            try:\n",
        "                numero = int(entrada)\n",
        "                resultado = self.validador.es_valido(numero)\n",
        "                print(f\"Validando número {numero}... Resultado: {resultado}\")\n",
        "            except ValueError:\n",
        "                print(\"Error: Por favor, introduce un número entero válido.\")\n",
        "\n",
        "    def prueba_automatica(self):\n",
        "        print(\"\\n--- Modo de Prueba Automática ---\")\n",
        "        print(\"Ejecutando pruebas automáticas con clases de equivalencia...\\n\")\n",
        "\n",
        "        pruebas = [\n",
        "            {\"descripcion\": \"Clase Negativa\", \"valor\": -50},\n",
        "            {\"descripcion\": \"Clase Límite Inferior\", \"valor\": 0},\n",
        "            {\"descripcion\": \"Clase Media\", \"valor\": 50},\n",
        "            {\"descripcion\": \"Clase Límite Superior\", \"valor\": 100},\n",
        "            {\"descripcion\": \"Clase Mayor a 100\", \"valor\": 150},\n",
        "        ]\n",
        "\n",
        "        for prueba in pruebas:\n",
        "            valor = prueba[\"valor\"]\n",
        "            resultado = self.validador.es_valido(valor)\n",
        "            print(f\"Prueba {prueba['descripcion']} con valor {valor}: Resultado: {resultado}\")\n",
        "            time.sleep(2)  # Pausa de 2 segundos para mostrar cada resultado claramente\n",
        "\n",
        "        print(\"\\n--- Fin de las pruebas automáticas ---\\n\")\n",
        "\n",
        "if __name__ == \"__main__\":\n",
        "    validador = ValidadorRango()\n",
        "    evaluador = EvaluadorDePruebas(validador)\n",
        "\n",
        "    while True:\n",
        "        print(\"\\nOpciones:\")\n",
        "        print(\"1. Realizar prueba manual\")\n",
        "        print(\"2. Ejecutar pruebas automáticas\")\n",
        "        print(\"3. Salir\")\n",
        "\n",
        "        opcion = input(\"Selecciona una opción: \")\n",
        "\n",
        "        if opcion == \"1\":\n",
        "            evaluador.prueba_manual()\n",
        "        elif opcion == \"2\":\n",
        "            evaluador.prueba_automatica()\n",
        "        elif opcion == \"3\":\n",
        "            print(\"Saliendo del programa...\")\n",
        "            break\n",
        "        else:\n",
        "            print(\"Opción no válida, por favor intenta de nuevo.\")"
      ],
      "metadata": {
        "id": "vDyDvUxzJlp0"
      },
      "execution_count": null,
      "outputs": []
    }
  ]
}